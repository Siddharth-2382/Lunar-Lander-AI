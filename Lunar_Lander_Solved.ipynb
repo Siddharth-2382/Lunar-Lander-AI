{
  "cells": [
    {
      "cell_type": "markdown",
      "metadata": {
        "id": "tuvsR2ajfyMu"
      },
      "source": [
        "# Lunar Lander AI using Deep Q-Learning & OpenAI's Gym"
      ]
    },
    {
      "cell_type": "markdown",
      "source": [
        "## 1 - Import Packages"
      ],
      "metadata": {
        "id": "XRB61wjoFFbS"
      }
    },
    {
      "cell_type": "markdown",
      "source": [
        "I'll make use of the following packages:\n",
        "- `numpy` is a package for scientific computing in python.\n",
        "- `deque` will be our data structure for our memory buffer.\n",
        "- `namedtuple` will be used to store the experience tuples.\n",
        "- The `gym` toolkit is a collection of environments that can be used to test reinforcement learning algorithms. We should note that in this notebook we are using `gym` version `0.25.2`.\n",
        "- `PIL.Image` is needed to render the Lunar Lander environment.\n",
        "- We will use several modules from the `tensorflow.keras` framework for building deep learning models.\n",
        "- `utils` is a module that contains helper functions for this assignment. You do not need to modify the code in this file."
      ],
      "metadata": {
        "id": "mpQf0B-rFVjP"
      }
    },
    {
      "cell_type": "code",
      "execution_count": 34,
      "metadata": {
        "deletable": false,
        "id": "KYbOPKRtfQOr"
      },
      "outputs": [],
      "source": [
        "import time\n",
        "from collections import deque, namedtuple\n",
        "\n",
        "import gym\n",
        "import numpy as np\n",
        "import PIL.Image\n",
        "import tensorflow as tf\n",
        "import utils\n",
        "\n",
        "from tensorflow.keras import Sequential\n",
        "from tensorflow.keras.layers import Dense, Input\n",
        "from tensorflow.keras.losses import MSE\n",
        "from tensorflow.keras.optimizers import Adam"
      ]
    },
    {
      "cell_type": "code",
      "execution_count": 4,
      "metadata": {
        "deletable": false,
        "id": "eqoE-BvkfyM2"
      },
      "outputs": [],
      "source": [
        "# Set the random seed for TensorFlow\n",
        "tf.random.set_seed(utils.SEED)"
      ]
    },
    {
      "cell_type": "markdown",
      "metadata": {
        "id": "BF-DkMbgfyM3"
      },
      "source": [
        "## 2 - Hyperparameters"
      ]
    },
    {
      "cell_type": "code",
      "execution_count": 5,
      "metadata": {
        "deletable": false,
        "editable": false,
        "id": "GRz09mJHfyM3"
      },
      "outputs": [],
      "source": [
        "MEMORY_SIZE = 100_000     # size of memory buffer\n",
        "GAMMA = 0.995             # discount factor\n",
        "ALPHA = 1e-3              # learning rate\n",
        "NUM_STEPS_FOR_UPDATE = 4  # perform a learning update every C time steps"
      ]
    },
    {
      "cell_type": "markdown",
      "metadata": {
        "id": "ciU4HLnZfyM3"
      },
      "source": [
        "<a name=\"3\"></a>\n",
        "## 3 - The Lunar Lander Environment\n",
        "\n",
        "In this notebook we will be using [OpenAI's Gym Library](https://www.gymlibrary.dev/). The Gym library provides a wide variety of environments for reinforcement learning. To put it simply, an environment represents a problem or task to be solved. In this notebook, I will try to solve the Lunar Lander environment using reinforcement learning.\n",
        "\n",
        "The goal of the Lunar Lander environment is to land the lunar lander safely on the landing pad on the surface of the moon. The landing pad is designated by two flag poles and its center is at coordinates `(0,0)` but the lander is also allowed to land outside of the landing pad. The lander starts at the top center of the environment with a random initial force applied to its center of mass and has infinite fuel. The environment is considered solved if you get `200` points.\n",
        "\n",
        "### 3.1 Action Space\n",
        "\n",
        "The agent has four discrete actions available:\n",
        "\n",
        "* Do nothing.\n",
        "* Fire right engine.\n",
        "* Fire main engine.\n",
        "* Fire left engine.\n",
        "\n",
        "Each action has a corresponding numerical value:\n",
        "\n",
        "```python\n",
        "Do nothing = 0\n",
        "Fire right engine = 1\n",
        "Fire main engine = 2\n",
        "Fire left engine = 3\n",
        "```\n",
        "\n",
        "### 3.2 Observation Space\n",
        "\n",
        "The agent's observation space consists of a state vector with 8 variables:\n",
        "\n",
        "* Its $(x,y)$ coordinates. The landing pad is always at coordinates $(0,0)$.\n",
        "* Its linear velocities $(\\dot x,\\dot y)$.\n",
        "* Its angle $\\theta$.\n",
        "* Its angular velocity $\\dot \\theta$.\n",
        "* Two booleans, $l$ and $r$, that represent whether each leg is in contact with the ground or not.\n",
        "\n",
        "### 3.3 Rewards\n",
        "\n",
        "After every step, a reward is granted. The total reward of an episode is the sum of the rewards for all the steps within that episode.\n",
        "\n",
        "For each step, the reward:\n",
        "- is increased/decreased the closer/further the lander is to the landing pad.\n",
        "- is increased/decreased the slower/faster the lander is moving.\n",
        "- is decreased the more the lander is tilted (angle not horizontal).\n",
        "- is increased by 10 points for each leg that is in contact with the ground.\n",
        "- is decreased by 0.03 points each frame a side engine is firing.\n",
        "- is decreased by 0.3 points each frame the main engine is firing.\n",
        "\n",
        "The episode receives an additional reward of -100 or +100 points for crashing or landing safely respectively.\n",
        "\n",
        "### 3.4 Episode Termination\n",
        "\n",
        "An episode ends (i.e the environment enters a terminal state) if:\n",
        "\n",
        "* The lunar lander crashes (i.e if the body of the lunar lander comes in contact with the surface of the moon).\n",
        "\n",
        "* The absolute value of the lander's $x$-coordinate is greater than 1 (i.e. it goes beyond the left or right border)\n",
        "\n",
        "You can check out the [Open AI Gym documentation](https://www.gymlibrary.dev/environments/box2d/lunar_lander/) for a full description of the environment."
      ]
    },
    {
      "cell_type": "markdown",
      "metadata": {
        "id": "WJu6BcW_fyM4"
      },
      "source": [
        "<a name=\"4\"></a>\n",
        "## 4 - Load the Environment\n",
        "\n",
        "We start by loading the `LunarLander-v2` environment from the `gym` library by using the `.make()` method. `LunarLander-v2` is the latest version of the Lunar Lander environment and you can read about its version history in the [Open AI Gym documentation](https://www.gymlibrary.dev/environments/box2d/lunar_lander/#version-history)."
      ]
    },
    {
      "cell_type": "code",
      "execution_count": null,
      "metadata": {
        "deletable": false,
        "editable": false,
        "id": "ILVMYKewfR0n"
      },
      "outputs": [],
      "source": [
        "env = gym.make('LunarLander-v2', render_mode='rgb_array')"
      ]
    },
    {
      "cell_type": "markdown",
      "metadata": {
        "id": "gDyfufcAfyM4"
      },
      "source": [
        "Once we load the environment we use the `.reset()` method to reset the environment to the initial state. The lander starts at the top center of the environment and we can render the first frame of the environment by using the `.render()` method."
      ]
    },
    {
      "cell_type": "code",
      "execution_count": 9,
      "metadata": {
        "deletable": false,
        "editable": false,
        "colab": {
          "base_uri": "https://localhost:8080/",
          "height": 417
        },
        "id": "asdE6zewfyM5",
        "outputId": "b7e357b3-6270-4cb1-bb62-39fe499e9d9d"
      },
      "outputs": [
        {
          "output_type": "execute_result",
          "data": {
            "text/plain": [
              "<PIL.Image.Image image mode=RGB size=600x400>"
            ],
            "image/png": "[encoded data removed]"
          },
          "metadata": {},
          "execution_count": 9
        }
      ],
      "source": [
        "env.reset()\n",
        "PIL.Image.fromarray(env.render()[0])"
      ]
    },
    {
      "cell_type": "markdown",
      "metadata": {
        "id": "HkJ2hfIrfyM5"
      },
      "source": [
        "In order to build our neural network later on we need to know the size of the state vector and the number of valid actions. We can get this information from our environment by using the `.observation_space.shape` and `action_space.n` methods, respectively."
      ]
    },
    {
      "cell_type": "code",
      "execution_count": 10,
      "metadata": {
        "deletable": false,
        "editable": false,
        "id": "x3fdqdG4CUu2",
        "colab": {
          "base_uri": "https://localhost:8080/"
        },
        "outputId": "ed97121d-3137-4bdd-d761-500258829dc6"
      },
      "outputs": [
        {
          "output_type": "stream",
          "name": "stdout",
          "text": [
            "State Shape: (8,)\n",
            "Number of actions: 4\n"
          ]
        }
      ],
      "source": [
        "state_size = env.observation_space.shape\n",
        "num_actions = env.action_space.n\n",
        "\n",
        "print('State Shape:', state_size)\n",
        "print('Number of actions:', num_actions)"
      ]
    },
    {
      "cell_type": "markdown",
      "metadata": {
        "id": "jIJLKWwxfyM6"
      },
      "source": [
        "<a name=\"5\"></a>\n",
        "## 5 - Interacting with the Gym Environment\n",
        "\n",
        "The Gym library implements the standard “agent-environment loop” formalism:\n",
        "\n",
        "\n",
        "\n",
        "In the standard “agent-environment loop” formalism, an agent interacts with the environment in discrete time steps $t=0,1,2,...$. At each time step $t$, the agent uses a policy $\\pi$ to select an action $A_t$ based on its observation of the environment's state $S_t$. The agent receives a numerical reward $R_t$ and on the next time step, moves to a new state $S_{t+1}$.\n",
        "\n",
        "### 5.1 Exploring the Environment's Dynamics\n",
        "\n",
        "In Open AI's Gym environments, we use the `.step()` method to run a single time step of the environment's dynamics. In the version of `gym` that we are using the `.step()` method accepts an action and returns four values:\n",
        "\n",
        "* `observation` (**object**): an environment-specific object representing your observation of the environment. In the Lunar Lander environment this corresponds to a numpy array containing the positions and velocities of the lander as described above.\n",
        "\n",
        "\n",
        "* `reward` (**float**): amount of reward returned as a result of taking the given action. In the Lunar Lander environment this corresponds to a float of type `numpy.float64` as described above.\n",
        "\n",
        "\n",
        "* `done` (**boolean**): When done is `True`, it indicates the episode has terminated and it’s time to reset the environment.\n",
        "\n",
        "\n",
        "* `info` (**dictionary**): diagnostic information useful for debugging. We won't be using this variable in this notebook but it is shown here for completeness.\n",
        "\n",
        "To begin an episode, we need to reset the environment to an initial state. We do this by using the `.reset()` method."
      ]
    },
    {
      "cell_type": "code",
      "execution_count": 11,
      "metadata": {
        "deletable": false,
        "editable": false,
        "id": "EietTZR1fyM7"
      },
      "outputs": [],
      "source": [
        "# Reset the environment and get the initial state.\n",
        "current_state = env.reset()"
      ]
    },
    {
      "cell_type": "markdown",
      "metadata": {
        "id": "MFRyZK6JfyM7"
      },
      "source": [
        "Once the environment is reset, the agent can start taking actions in the environment by using the `.step()` method. Note that the agent can only take one action per time step.\n",
        "\n",
        "In the cell below you can select different actions and see how the returned values change depending on the action taken. Remember that in this environment the agent has four discrete actions available and we specify them in code by using their corresponding numerical value:\n",
        "\n",
        "```python\n",
        "Do nothing = 0\n",
        "Fire right engine = 1\n",
        "Fire main engine = 2\n",
        "Fire left engine = 3\n",
        "```"
      ]
    },
    {
      "cell_type": "code",
      "execution_count": 12,
      "metadata": {
        "deletable": false,
        "colab": {
          "base_uri": "https://localhost:8080/",
          "height": 507
        },
        "id": "HMJ6VUoYfyM7",
        "outputId": "4aea6d89-cdf0-4a50-833f-642c4f4a2bea"
      },
      "outputs": [
        {
          "output_type": "stream",
          "name": "stderr",
          "text": [
            "/content/utils.py:346: DeprecationWarning: `np.bool` is a deprecated alias for the builtin `bool`. To silence this warning, use `bool` by itself. Doing this will not modify any behavior and is safe. If you specifically wanted the numpy scalar type, use `np.bool_` here.\n",
            "Deprecated in NumPy 1.20; for more details and guidance: https://numpy.org/devdocs/release/1.20.0-notes.html#deprecations\n",
            "  (STATE_VECTOR_COL_NAME, 'Ground contact', 'Left Leg?'): get_state(6, np.bool),\n"
          ]
        },
        {
          "output_type": "display_data",
          "data": {
            "text/plain": [
              "<pandas.io.formats.style.Styler at 0x7d4b3232ebf0>"
            ],
            "text/html": [
              "<style type=\"text/css\">\n",
              "#T_863e7 th {\n",
              "  border: 1px solid grey;\n",
              "  text-align: center;\n",
              "}\n",
              "#T_863e7 tbody td {\n",
              "  border: 1px solid grey;\n",
              "  text-align: center;\n",
              "}\n",
              "#T_863e7_row0_col0, #T_863e7_row1_col1, #T_863e7_row1_col2, #T_863e7_row1_col3, #T_863e7_row1_col4, #T_863e7_row1_col5, #T_863e7_row1_col6, #T_863e7_row1_col7, #T_863e7_row1_col8, #T_863e7_row1_col9, #T_863e7_row1_col10, #T_863e7_row1_col11, #T_863e7_row2_col0, #T_863e7_row3_col1, #T_863e7_row3_col2, #T_863e7_row3_col3, #T_863e7_row3_col4, #T_863e7_row3_col5, #T_863e7_row3_col6, #T_863e7_row3_col7, #T_863e7_row3_col8, #T_863e7_row3_col9, #T_863e7_row3_col10, #T_863e7_row3_col11, #T_863e7_row4_col1, #T_863e7_row4_col2, #T_863e7_row4_col3, #T_863e7_row4_col4, #T_863e7_row4_col5, #T_863e7_row4_col6, #T_863e7_row4_col7, #T_863e7_row4_col8, #T_863e7_row4_col9, #T_863e7_row4_col10, #T_863e7_row4_col11 {\n",
              "  background-color: grey;\n",
              "}\n",
              "</style>\n",
              "<table id=\"T_863e7\" class=\"dataframe\">\n",
              "  <thead>\n",
              "    <tr>\n",
              "      <th class=\"blank level0\" >&nbsp;</th>\n",
              "      <th id=\"T_863e7_level0_col0\" class=\"col_heading level0 col0\" ></th>\n",
              "      <th id=\"T_863e7_level0_col1\" class=\"col_heading level0 col1\" colspan=\"8\">State Vector</th>\n",
              "      <th id=\"T_863e7_level0_col9\" class=\"col_heading level0 col9\" colspan=\"3\">Derived from the State Vector (the closer to zero, the better)</th>\n",
              "    </tr>\n",
              "    <tr>\n",
              "      <th class=\"blank level1\" >&nbsp;</th>\n",
              "      <th id=\"T_863e7_level1_col0\" class=\"col_heading level1 col0\" ></th>\n",
              "      <th id=\"T_863e7_level1_col1\" class=\"col_heading level1 col1\" colspan=\"2\">Coordinate</th>\n",
              "      <th id=\"T_863e7_level1_col3\" class=\"col_heading level1 col3\" colspan=\"2\">Velocity</th>\n",
              "      <th id=\"T_863e7_level1_col5\" class=\"col_heading level1 col5\" colspan=\"2\">Tilting</th>\n",
              "      <th id=\"T_863e7_level1_col7\" class=\"col_heading level1 col7\" colspan=\"2\">Ground contact</th>\n",
              "      <th id=\"T_863e7_level1_col9\" class=\"col_heading level1 col9\" >Distance from landing pad</th>\n",
              "      <th id=\"T_863e7_level1_col10\" class=\"col_heading level1 col10\" >Velocity</th>\n",
              "      <th id=\"T_863e7_level1_col11\" class=\"col_heading level1 col11\" >Tilting Angle (absolute value)</th>\n",
              "    </tr>\n",
              "    <tr>\n",
              "      <th class=\"blank level2\" >&nbsp;</th>\n",
              "      <th id=\"T_863e7_level2_col0\" class=\"col_heading level2 col0\" ></th>\n",
              "      <th id=\"T_863e7_level2_col1\" class=\"col_heading level2 col1\" >X (Horizontal)</th>\n",
              "      <th id=\"T_863e7_level2_col2\" class=\"col_heading level2 col2\" >Y (Vertical)</th>\n",
              "      <th id=\"T_863e7_level2_col3\" class=\"col_heading level2 col3\" >X (Horizontal)</th>\n",
              "      <th id=\"T_863e7_level2_col4\" class=\"col_heading level2 col4\" >Y (Vertical)</th>\n",
              "      <th id=\"T_863e7_level2_col5\" class=\"col_heading level2 col5\" >Angle</th>\n",
              "      <th id=\"T_863e7_level2_col6\" class=\"col_heading level2 col6\" >Angular Velocity</th>\n",
              "      <th id=\"T_863e7_level2_col7\" class=\"col_heading level2 col7\" >Left Leg?</th>\n",
              "      <th id=\"T_863e7_level2_col8\" class=\"col_heading level2 col8\" >Right Leg?</th>\n",
              "      <th id=\"T_863e7_level2_col9\" class=\"col_heading level2 col9\" ></th>\n",
              "      <th id=\"T_863e7_level2_col10\" class=\"col_heading level2 col10\" ></th>\n",
              "      <th id=\"T_863e7_level2_col11\" class=\"col_heading level2 col11\" ></th>\n",
              "    </tr>\n",
              "  </thead>\n",
              "  <tbody>\n",
              "    <tr>\n",
              "      <th id=\"T_863e7_level0_row0\" class=\"row_heading level0 row0\" >Current State</th>\n",
              "      <td id=\"T_863e7_row0_col0\" class=\"data row0 col0\" ></td>\n",
              "      <td id=\"T_863e7_row0_col1\" class=\"data row0 col1\" >0.003389</td>\n",
              "      <td id=\"T_863e7_row0_col2\" class=\"data row0 col2\" >1.404500</td>\n",
              "      <td id=\"T_863e7_row0_col3\" class=\"data row0 col3\" >0.343196</td>\n",
              "      <td id=\"T_863e7_row0_col4\" class=\"data row0 col4\" >-0.285340</td>\n",
              "      <td id=\"T_863e7_row0_col5\" class=\"data row0 col5\" >-0.003920</td>\n",
              "      <td id=\"T_863e7_row0_col6\" class=\"data row0 col6\" >-0.077739</td>\n",
              "      <td id=\"T_863e7_row0_col7\" class=\"data row0 col7\" >False</td>\n",
              "      <td id=\"T_863e7_row0_col8\" class=\"data row0 col8\" >False</td>\n",
              "      <td id=\"T_863e7_row0_col9\" class=\"data row0 col9\" >1.404504</td>\n",
              "      <td id=\"T_863e7_row0_col10\" class=\"data row0 col10\" >0.446321</td>\n",
              "      <td id=\"T_863e7_row0_col11\" class=\"data row0 col11\" >0.003920</td>\n",
              "    </tr>\n",
              "    <tr>\n",
              "      <th id=\"T_863e7_level0_row1\" class=\"row_heading level0 row1\" >Action</th>\n",
              "      <td id=\"T_863e7_row1_col0\" class=\"data row1 col0\" >Do nothing</td>\n",
              "      <td id=\"T_863e7_row1_col1\" class=\"data row1 col1\" ></td>\n",
              "      <td id=\"T_863e7_row1_col2\" class=\"data row1 col2\" ></td>\n",
              "      <td id=\"T_863e7_row1_col3\" class=\"data row1 col3\" ></td>\n",
              "      <td id=\"T_863e7_row1_col4\" class=\"data row1 col4\" ></td>\n",
              "      <td id=\"T_863e7_row1_col5\" class=\"data row1 col5\" ></td>\n",
              "      <td id=\"T_863e7_row1_col6\" class=\"data row1 col6\" ></td>\n",
              "      <td id=\"T_863e7_row1_col7\" class=\"data row1 col7\" ></td>\n",
              "      <td id=\"T_863e7_row1_col8\" class=\"data row1 col8\" ></td>\n",
              "      <td id=\"T_863e7_row1_col9\" class=\"data row1 col9\" ></td>\n",
              "      <td id=\"T_863e7_row1_col10\" class=\"data row1 col10\" ></td>\n",
              "      <td id=\"T_863e7_row1_col11\" class=\"data row1 col11\" ></td>\n",
              "    </tr>\n",
              "    <tr>\n",
              "      <th id=\"T_863e7_level0_row2\" class=\"row_heading level0 row2\" >Next State</th>\n",
              "      <td id=\"T_863e7_row2_col0\" class=\"data row2 col0\" ></td>\n",
              "      <td id=\"T_863e7_row2_col1\" class=\"data row2 col1\" >0.006777</td>\n",
              "      <td id=\"T_863e7_row2_col2\" class=\"data row2 col2\" >1.397503</td>\n",
              "      <td id=\"T_863e7_row2_col3\" class=\"data row2 col3\" >0.342733</td>\n",
              "      <td id=\"T_863e7_row2_col4\" class=\"data row2 col4\" >-0.310987</td>\n",
              "      <td id=\"T_863e7_row2_col5\" class=\"data row2 col5\" >-0.007761</td>\n",
              "      <td id=\"T_863e7_row2_col6\" class=\"data row2 col6\" >-0.076837</td>\n",
              "      <td id=\"T_863e7_row2_col7\" class=\"data row2 col7\" >False</td>\n",
              "      <td id=\"T_863e7_row2_col8\" class=\"data row2 col8\" >False</td>\n",
              "      <td id=\"T_863e7_row2_col9\" class=\"data row2 col9\" >1.397520</td>\n",
              "      <td id=\"T_863e7_row2_col10\" class=\"data row2 col10\" >0.462795</td>\n",
              "      <td id=\"T_863e7_row2_col11\" class=\"data row2 col11\" >0.007761</td>\n",
              "    </tr>\n",
              "    <tr>\n",
              "      <th id=\"T_863e7_level0_row3\" class=\"row_heading level0 row3\" >Reward</th>\n",
              "      <td id=\"T_863e7_row3_col0\" class=\"data row3 col0\" >-1.333070</td>\n",
              "      <td id=\"T_863e7_row3_col1\" class=\"data row3 col1\" ></td>\n",
              "      <td id=\"T_863e7_row3_col2\" class=\"data row3 col2\" ></td>\n",
              "      <td id=\"T_863e7_row3_col3\" class=\"data row3 col3\" ></td>\n",
              "      <td id=\"T_863e7_row3_col4\" class=\"data row3 col4\" ></td>\n",
              "      <td id=\"T_863e7_row3_col5\" class=\"data row3 col5\" ></td>\n",
              "      <td id=\"T_863e7_row3_col6\" class=\"data row3 col6\" ></td>\n",
              "      <td id=\"T_863e7_row3_col7\" class=\"data row3 col7\" ></td>\n",
              "      <td id=\"T_863e7_row3_col8\" class=\"data row3 col8\" ></td>\n",
              "      <td id=\"T_863e7_row3_col9\" class=\"data row3 col9\" ></td>\n",
              "      <td id=\"T_863e7_row3_col10\" class=\"data row3 col10\" ></td>\n",
              "      <td id=\"T_863e7_row3_col11\" class=\"data row3 col11\" ></td>\n",
              "    </tr>\n",
              "    <tr>\n",
              "      <th id=\"T_863e7_level0_row4\" class=\"row_heading level0 row4\" >Episode Terminated</th>\n",
              "      <td id=\"T_863e7_row4_col0\" class=\"data row4 col0\" >False</td>\n",
              "      <td id=\"T_863e7_row4_col1\" class=\"data row4 col1\" ></td>\n",
              "      <td id=\"T_863e7_row4_col2\" class=\"data row4 col2\" ></td>\n",
              "      <td id=\"T_863e7_row4_col3\" class=\"data row4 col3\" ></td>\n",
              "      <td id=\"T_863e7_row4_col4\" class=\"data row4 col4\" ></td>\n",
              "      <td id=\"T_863e7_row4_col5\" class=\"data row4 col5\" ></td>\n",
              "      <td id=\"T_863e7_row4_col6\" class=\"data row4 col6\" ></td>\n",
              "      <td id=\"T_863e7_row4_col7\" class=\"data row4 col7\" ></td>\n",
              "      <td id=\"T_863e7_row4_col8\" class=\"data row4 col8\" ></td>\n",
              "      <td id=\"T_863e7_row4_col9\" class=\"data row4 col9\" ></td>\n",
              "      <td id=\"T_863e7_row4_col10\" class=\"data row4 col10\" ></td>\n",
              "      <td id=\"T_863e7_row4_col11\" class=\"data row4 col11\" ></td>\n",
              "    </tr>\n",
              "  </tbody>\n",
              "</table>\n"
            ]
          },
          "metadata": {}
        }
      ],
      "source": [
        "# Select an action\n",
        "action = 0\n",
        "\n",
        "# Run a single time step of the environment's dynamics with the given action.\n",
        "next_state, reward, done, _ = env.step(action)\n",
        "\n",
        "# Display table with values.\n",
        "utils.display_table(current_state, action, next_state, reward, done)\n",
        "\n",
        "# Replace the `current_state` with the state after the action is taken\n",
        "current_state = next_state"
      ]
    },
    {
      "cell_type": "markdown",
      "metadata": {
        "id": "Y40apIlRfyM8"
      },
      "source": [
        "In practice, when we train the agent we use a loop to allow the agent to take many consecutive actions during an episode."
      ]
    },
    {
      "cell_type": "markdown",
      "metadata": {
        "id": "xX66-8mIfyM8"
      },
      "source": [
        "<a name=\"6\"></a>\n",
        "## 6 - Deep Q-Learning\n",
        "\n",
        "In cases where both the state and action space are discrete we can estimate the action-value function iteratively by using the Bellman equation:\n",
        "\n",
        "$$\n",
        "Q_{i+1}(s,a) = R + \\gamma \\max_{a'}Q_i(s',a')\n",
        "$$\n",
        "\n",
        "This iterative method converges to the optimal action-value function $Q^*(s,a)$ as $i\\to\\infty$. This means that the agent just needs to gradually explore the state-action space and keep updating the estimate of $Q(s,a)$ until it converges to the optimal action-value function $Q^*(s,a)$. However, in cases where the state space is continuous it becomes practically impossible to explore the entire state-action space. Consequently, this also makes it practically impossible to gradually estimate $Q(s,a)$ until it converges to $Q^*(s,a)$.\n",
        "\n",
        "In the Deep $Q$-Learning, we solve this problem by using a neural network to estimate the action-value function $Q(s,a)\\approx Q^*(s,a)$. We call this neural network a $Q$-Network and it can be trained by adjusting its weights at each iteration to minimize the mean-squared error in the Bellman equation.\n",
        "\n",
        "Unfortunately, using neural networks in reinforcement learning to estimate action-value functions has proven to be highly unstable. Luckily, there's a couple of techniques that can be employed to avoid instabilities. These techniques consist of using a ***Target Network*** and ***Experience Replay***. We will explore these two techniques in the following sections."
      ]
    },
    {
      "cell_type": "markdown",
      "metadata": {
        "id": "WaYtfQMhfyM8"
      },
      "source": [
        "<a name=\"6.1\"></a>\n",
        "### 6.1 Target Network\n",
        "\n",
        "We can train the $Q$-Network by adjusting it's weights at each iteration to minimize the mean-squared error in the Bellman equation, where the target values are given by:\n",
        "\n",
        "$$\n",
        "y = R + \\gamma \\max_{a'}Q(s',a';w)\n",
        "$$\n",
        "\n",
        "where $w$ are the weights of the $Q$-Network. This means that we are adjusting the weights $w$ at each iteration to minimize the following error:\n",
        "\n",
        "$$\n",
        "\\overbrace{\\underbrace{R + \\gamma \\max_{a'}Q(s',a'; w)}_{\\rm {y~target}} - Q(s,a;w)}^{\\rm {Error}}\n",
        "$$\n",
        "\n",
        "Notice that this forms a problem because the $y$ target is changing on every iteration. Having a constantly moving target can lead to oscillations and instabilities. To avoid this, we can create\n",
        "a separate neural network for generating the $y$ targets. We call this separate neural network the **target $\\hat Q$-Network** and it will have the same architecture as the original $Q$-Network. By using the target $\\hat Q$-Network, the above error becomes:\n",
        "\n",
        "$$\n",
        "\\overbrace{\\underbrace{R + \\gamma \\max_{a'}\\hat{Q}(s',a'; w^-)}_{\\rm {y~target}} - Q(s,a;w)}^{\\rm {Error}}\n",
        "$$\n",
        "\n",
        "where $w^-$ and $w$ are the weights of the target $\\hat Q$-Network and $Q$-Network, respectively.\n",
        "\n",
        "In practice, we will use the following algorithm: every $C$ time steps we will use the $\\hat Q$-Network to generate the $y$ targets and update the weights of the target $\\hat Q$-Network using the weights of the $Q$-Network. We will update the weights $w^-$ of the the target $\\hat Q$-Network using a **soft update**. This means that we will update the weights $w^-$ using the following rule:\n",
        "\n",
        "$$\n",
        "w^-\\leftarrow \\tau w + (1 - \\tau) w^-\n",
        "$$\n",
        "\n",
        "where $\\tau\\ll 1$. By using the soft update, we are ensuring that the target values, $y$, change slowly, which greatly improves the stability of our learning algorithm."
      ]
    },
    {
      "cell_type": "markdown",
      "metadata": {
        "id": "ua-PaQs7fyM8"
      },
      "source": [
        "\n",
        "Here, we will create the $Q$ and target $\\hat Q$ networks and set the optimizer. Remember that the Deep $Q$-Network (DQN) is a neural network that approximates the action-value function $Q(s,a)\\approx Q^*(s,a)$. It does this by learning how to map states to $Q$ values.\n",
        "\n",
        "To solve the Lunar Lander environment, we are going to employ a DQN with the following architecture:\n",
        "\n",
        "* An `Input` layer that takes `state_size` as input.\n",
        "\n",
        "* A `Dense` layer with `64` units and a `relu` activation function.\n",
        "\n",
        "* A `Dense` layer with `64` units and a `relu` activation function.\n",
        "\n",
        "* A `Dense` layer with `num_actions` units and a `linear` activation function. This will be the output layer of our network.\n",
        "\n",
        "\n",
        "Both the $Q$-Network and the target $\\hat Q$-Network have the same architecture."
      ]
    },
    {
      "cell_type": "code",
      "execution_count": 31,
      "metadata": {
        "deletable": false,
        "id": "pxpzTvebfyM9"
      },
      "outputs": [],
      "source": [
        "# Create the Q-Network\n",
        "q_network = Sequential([\n",
        "    Input(state_size),\n",
        "    Dense(units=64, activation='relu'),\n",
        "    Dense(units=64, activation='relu'),\n",
        "    Dense(units=num_actions, activation='linear')\n",
        "    ])\n",
        "\n",
        "# Create the target Q^-Network\n",
        "target_q_network = Sequential([\n",
        "    Input(state_size),\n",
        "    Dense(units=64, activation='relu'),\n",
        "    Dense(units=64, activation='relu'),\n",
        "    Dense(units=num_actions, activation='linear')\n",
        "    ])\n",
        "\n",
        "optimizer = Adam(ALPHA)"
      ]
    },
    {
      "cell_type": "markdown",
      "metadata": {
        "id": "2fA7reoPfyM9"
      },
      "source": [
        "<a name=\"6.2\"></a>\n",
        "### 6.2 Experience Replay\n",
        "\n",
        "When an agent interacts with the environment, the states, actions, and rewards the agent experiences are sequential by nature. If the agent tries to learn from these consecutive experiences it can run into problems due to the strong correlations between them. To avoid this, we employ a technique known as **Experience Replay** to generate uncorrelated experiences for training our agent. Experience replay consists of storing the agent's experiences (i.e the states, actions, and rewards the agent receives) in a memory buffer and then sampling a random mini-batch of experiences from the buffer to do the learning. The experience tuples $(S_t, A_t, R_t, S_{t+1})$ will be added to the memory buffer at each time step as the agent interacts with the environment.\n",
        "\n",
        "For convenience, we will store the experiences as named tuples."
      ]
    },
    {
      "cell_type": "code",
      "execution_count": 14,
      "metadata": {
        "deletable": false,
        "editable": false,
        "id": "tmRqyvasfyM9"
      },
      "outputs": [],
      "source": [
        "# Store experiences as named tuples\n",
        "experience = namedtuple(\"Experience\", field_names=[\"state\", \"action\", \"reward\", \"next_state\", \"done\"])"
      ]
    },
    {
      "cell_type": "markdown",
      "metadata": {
        "id": "hlQJlR4lfyM-"
      },
      "source": [
        "By using experience replay we avoid problematic correlations, oscillations and instabilities. In addition, experience replay also allows the agent to potentially use the same experience in multiple weight updates, which increases data efficiency."
      ]
    },
    {
      "cell_type": "markdown",
      "metadata": {
        "id": "odTzTwM-fyM-"
      },
      "source": [
        "## 7 - Deep Q-Learning Algorithm with Experience Replay\n",
        "\n",
        "Now that we know all the techniques that we are going to use, we can put them together to arrive at the Deep Q-Learning Algorithm With Experience Replay."
      ]
    },
    {
      "cell_type": "markdown",
      "metadata": {
        "id": "-uXbJ84dfyM-"
      },
      "source": [
        "\n",
        "Here, I will implement the algorithm as discussed above and also compute the loss between the $y$ targets and the $Q(s,a)$ values. In the cell below, complete the `compute_loss` function by setting the $y$ targets equal to:\n",
        "\n",
        "$$\n",
        "\\begin{equation}\n",
        "    y_j =\n",
        "    \\begin{cases}\n",
        "      R_j & \\text{if episode terminates at step  } j+1\\\\\n",
        "      R_j + \\gamma \\max_{a'}\\hat{Q}(s_{j+1},a') & \\text{otherwise}\\\\\n",
        "    \\end{cases}       \n",
        "\\end{equation}\n",
        "$$\n",
        "\n",
        "Here are a couple of things to note:\n",
        "\n",
        "* The `compute_loss` function takes in a mini-batch of experience tuples. This mini-batch of experience tuples is unpacked to extract the `states`, `actions`, `rewards`, `next_states`, and `done_vals`. You should keep in mind that these variables are *TensorFlow Tensors* whose size will depend on the mini-batch size. For example, if the mini-batch size is `64` then both `rewards` and `done_vals` will be TensorFlow Tensors with `64` elements.\n",
        "\n",
        "\n",
        "* Using `if/else` statements to set the $y$ targets will not work when the variables are tensors with many elements. However, notice that you can use the `done_vals` to implement the above in a single line of code. To do this, recall that the `done` variable is a Boolean variable that takes the value `True` when an episode terminates at step $j+1$ and it is `False` otherwise. Taking into account that a Boolean value of `True` has the numerical value of `1` and a Boolean value of `False` has the numerical value of `0`, you can use the factor `(1 - done_vals)` to implement the above in a single line of code. Here's a hint: notice that `(1 - done_vals)` has a value of `0` when `done_vals` is `True` and a value of `1` when `done_vals` is `False`.\n",
        "\n",
        "Lastly, compute the loss by calculating the Mean-Squared Error (`MSE`) between the `y_targets` and the `q_values`."
      ]
    },
    {
      "cell_type": "code",
      "execution_count": 32,
      "metadata": {
        "deletable": false,
        "id": "__DyI_7LfyM-"
      },
      "outputs": [],
      "source": [
        "def compute_loss(experiences, gamma, q_network, target_q_network):\n",
        "    \"\"\"\n",
        "    Calculates the loss.\n",
        "\n",
        "    Args:\n",
        "      experiences: (tuple) tuple of [\"state\", \"action\", \"reward\", \"next_state\", \"done\"] namedtuples\n",
        "      gamma: (float) The discount factor.\n",
        "      q_network: (tf.keras.Sequential) Keras model for predicting the q_values\n",
        "      target_q_network: (tf.keras.Sequential) Keras model for predicting the targets\n",
        "\n",
        "    Returns:\n",
        "      loss: (TensorFlow Tensor(shape=(0,), dtype=int32)) the Mean-Squared Error between\n",
        "            the y targets and the Q(s,a) values.\n",
        "    \"\"\"\n",
        "\n",
        "    # Unpack the mini-batch of experience tuples\n",
        "    states, actions, rewards, next_states, done_vals = experiences\n",
        "\n",
        "    # Compute max Q^(s,a)\n",
        "    max_qsa = tf.reduce_max(target_q_network(next_states), axis=-1)\n",
        "\n",
        "    # Set y = R if episode terminates, otherwise set y = R + γ max Q^(s,a).\n",
        "    y_targets = rewards + (gamma * max_qsa * (1 - done_vals))\n",
        "\n",
        "    # Get the q_values and reshape to match y_targets\n",
        "    q_values = q_network(states)\n",
        "    q_values = tf.gather_nd(q_values, tf.stack([tf.range(q_values.shape[0]),\n",
        "                                                tf.cast(actions, tf.int32)], axis=1))\n",
        "\n",
        "    # Compute the loss\n",
        "    loss = MSE(y_targets, q_values)\n",
        "\n",
        "    return loss"
      ]
    },
    {
      "cell_type": "markdown",
      "metadata": {
        "id": "apBJfqkwfyNA"
      },
      "source": [
        "## 8 - Update the Network Weights\n",
        "\n",
        "We will use the `agent_learn` function below to finish our algorithm. The `agent_learn` function will update the weights of the $Q$ and target $\\hat Q$ networks using a custom training loop. Because we are using a custom training loop we need to retrieve the gradients via a `tf.GradientTape` instance, and then call `optimizer.apply_gradients()` to update the weights of our $Q$-Network. Note that we are also using the `@tf.function` decorator to increase performance. Without this decorator our training will take twice as long.\n",
        "\n",
        "The last line of this function updates the weights of the target $\\hat Q$-Network using a soft update. If you want to know how this is implemented in code we encourage you to take a look at the `utils.update_target_network` function in the `utils` module."
      ]
    },
    {
      "cell_type": "code",
      "execution_count": 16,
      "metadata": {
        "deletable": false,
        "editable": false,
        "id": "iKVusQnffyNA"
      },
      "outputs": [],
      "source": [
        "@tf.function\n",
        "def agent_learn(experiences, gamma):\n",
        "    \"\"\"\n",
        "    Updates the weights of the Q networks.\n",
        "\n",
        "    Args:\n",
        "      experiences: (tuple) tuple of [\"state\", \"action\", \"reward\", \"next_state\", \"done\"] namedtuples\n",
        "      gamma: (float) The discount factor.\n",
        "\n",
        "    \"\"\"\n",
        "\n",
        "    # Calculate the loss\n",
        "    with tf.GradientTape() as tape:\n",
        "        loss = compute_loss(experiences, gamma, q_network, target_q_network)\n",
        "\n",
        "    # Get the gradients of the loss with respect to the weights.\n",
        "    gradients = tape.gradient(loss, q_network.trainable_variables)\n",
        "\n",
        "    # Update the weights of the q_network.\n",
        "    optimizer.apply_gradients(zip(gradients, q_network.trainable_variables))\n",
        "\n",
        "    # update the weights of target q_network\n",
        "    utils.update_target_network(q_network, target_q_network)"
      ]
    },
    {
      "cell_type": "markdown",
      "metadata": {
        "id": "F1CjhX9jfyNA"
      },
      "source": [
        "<a name=\"9\"></a>\n",
        "## 9 - Train the Agent\n",
        "\n",
        "We are now ready to train our agent to solve the Lunar Lander environment. In the cell below we will implement the main learning algorithm line by line:\n",
        "\n",
        "* **Line 1**: We initialize the `memory_buffer` with a capacity of $N =$ `MEMORY_SIZE`. Notice that we are using a `deque` as the data structure for our `memory_buffer`.\n",
        "\n",
        "\n",
        "* **Line 2**: We skip this line since we already initialized the `q_network` above.\n",
        "\n",
        "\n",
        "* **Line 3**: We initialize the `target_q_network` by setting its weights to be equal to those of the `q_network`.\n",
        "\n",
        "\n",
        "* **Line 4**: We start the outer loop. Notice that we have set $M =$ `num_episodes = 2000`. This number is reasonable because the agent should be able to solve the Lunar Lander environment in less than `2000` episodes using this notebook's default parameters.\n",
        "\n",
        "\n",
        "* **Line 5**: We use the `.reset()` method to reset the environment to the initial state and get the initial state.\n",
        "\n",
        "\n",
        "* **Line 6**: We start the inner loop. Notice that we have set $T =$ `max_num_timesteps = 1000`. This means that the episode will automatically terminate if the episode hasn't terminated after `1000` time steps.\n",
        "\n",
        "\n",
        "* **Line 7**: The agent observes the current `state` and chooses an `action` using an $\\epsilon$-greedy policy. Our agent starts out using a value of $\\epsilon =$ `epsilon = 1` which yields an $\\epsilon$-greedy policy that is equivalent to the equiprobable random policy. This means that at the beginning of our training, the agent is just going to take random actions regardless of the observed `state`. As training progresses we will decrease the value of $\\epsilon$ slowly towards a minimum value using a given $\\epsilon$-decay rate. We want this minimum value to be close to zero because a value of $\\epsilon = 0$ will yield an $\\epsilon$-greedy policy that is equivalent to the greedy policy. This means that towards the end of training, the agent will lean towards selecting the `action` that it believes (based on its past experiences) will maximize $Q(s,a)$. We will set the minimum $\\epsilon$ value to be `0.01` and not exactly 0 because we always want to keep a little bit of exploration during training. If you want to know how this is implemented in code we encourage you to take a look at the `utils.get_action` function in the `utils` module.\n",
        "\n",
        "\n",
        "* **Line 8**: We use the `.step()` method to take the given `action` in the environment and get the `reward` and the `next_state`.\n",
        "\n",
        "\n",
        "* **Line 9**: We store the `experience(state, action, reward, next_state, done)` tuple in our `memory_buffer`. Notice that we also store the `done` variable so that we can keep track of when an episode terminates. This allowed us to set the $y$ targets above.\n",
        "\n",
        "\n",
        "* **Line 10**: We check if the conditions are met to perform a learning update. We do this by using our custom `utils.check_update_conditions` function. This function checks if $C =$ `NUM_STEPS_FOR_UPDATE = 4` time steps have occured and if our `memory_buffer` has enough experience tuples to fill a mini-batch. For example, if the mini-batch size is `64`, then our `memory_buffer` should have more than `64` experience tuples in order to pass the latter condition. If the conditions are met, then the `utils.check_update_conditions` function will return a value of `True`, otherwise it will return a value of `False`.\n",
        "\n",
        "\n",
        "* **Lines 11 - 14**: If the `update` variable is `True` then we perform a learning update. The learning update consists of sampling a random mini-batch of experience tuples from our `memory_buffer`, setting the $y$ targets, performing gradient descent, and updating the weights of the networks. We will use the `agent_learn` function we above to perform the latter 3.\n",
        "\n",
        "\n",
        "* **Line 15**: At the end of each iteration of the inner loop we set `next_state` as our new `state` so that the loop can start again from this new state. In addition, we check if the episode has reached a terminal state (i.e we check if `done = True`). If a terminal state has been reached, then we break out of the inner loop.\n",
        "\n",
        "\n",
        "* **Line 16**: At the end of each iteration of the outer loop we update the value of $\\epsilon$, and check if the environment has been solved. We consider that the environment has been solved if the agent receives an average of `200` points in the last `100` episodes. If the environment has not been solved we continue the outer loop and start a new episode.\n",
        "\n",
        "Finally, we wanted to note that we have included some extra variables to keep track of the total number of points the agent received in each episode. This will help us determine if the agent has solved the environment and it will also allow us to see how our agent performed during training. We also use the `time` module to measure how long the training takes."
      ]
    },
    {
      "cell_type": "code",
      "execution_count": 17,
      "metadata": {
        "deletable": false,
        "colab": {
          "base_uri": "https://localhost:8080/"
        },
        "id": "I1IMsnByfyNB",
        "outputId": "85ac807d-1f5a-4ba6-f171-ad92b9bae5a3"
      },
      "outputs": [
        {
          "output_type": "stream",
          "name": "stdout",
          "text": [
            "Episode 100 | Total point average of the last 100 episodes: -158.58\n",
            "Episode 200 | Total point average of the last 100 episodes: -99.83\n",
            "Episode 300 | Total point average of the last 100 episodes: -40.87\n",
            "Episode 400 | Total point average of the last 100 episodes: 53.04\n",
            "Episode 494 | Total point average of the last 100 episodes: 199.53"
          ]
        },
        {
          "output_type": "stream",
          "name": "stderr",
          "text": [
            "WARNING:tensorflow:Compiled the loaded model, but the compiled metrics have yet to be built. `model.compile_metrics` will be empty until you train or evaluate the model.\n"
          ]
        },
        {
          "output_type": "stream",
          "name": "stdout",
          "text": [
            "\rEpisode 495 | Total point average of the last 100 episodes: 201.84\n",
            "\n",
            "Environment solved in 495 episodes!\n",
            "\n",
            "Total Runtime: 2098.44 s (34.97 min)\n"
          ]
        }
      ],
      "source": [
        "start = time.time()\n",
        "\n",
        "num_episodes = 2000\n",
        "max_num_timesteps = 1000\n",
        "\n",
        "total_point_history = []\n",
        "\n",
        "num_p_av = 100    # number of total points to use for averaging\n",
        "epsilon = 1.0     # initial ε value for ε-greedy policy\n",
        "\n",
        "# Create a memory buffer D with capacity N\n",
        "memory_buffer = deque(maxlen=MEMORY_SIZE)\n",
        "\n",
        "# Set the target network weights equal to the Q-Network weights\n",
        "target_q_network.set_weights(q_network.get_weights())\n",
        "\n",
        "for i in range(num_episodes):\n",
        "\n",
        "    # Reset the environment to the initial state and get the initial state\n",
        "    state = env.reset()\n",
        "    total_points = 0\n",
        "\n",
        "    for t in range(max_num_timesteps):\n",
        "\n",
        "        # From the current state S choose an action A using an ε-greedy policy\n",
        "        state_qn = np.expand_dims(state, axis=0)  # state needs to be the right shape for the q_network\n",
        "        q_values = q_network(state_qn)\n",
        "        action = utils.get_action(q_values, epsilon)\n",
        "\n",
        "        # Take action A and receive reward R and the next state S'\n",
        "        next_state, reward, done, _ = env.step(action)\n",
        "\n",
        "        # Store experience tuple (S,A,R,S') in the memory buffer.\n",
        "        # We store the done variable as well for convenience.\n",
        "        memory_buffer.append(experience(state, action, reward, next_state, done))\n",
        "\n",
        "        # Only update the network every NUM_STEPS_FOR_UPDATE time steps.\n",
        "        update = utils.check_update_conditions(t, NUM_STEPS_FOR_UPDATE, memory_buffer)\n",
        "\n",
        "        if update:\n",
        "            # Sample random mini-batch of experience tuples (S,A,R,S') from D\n",
        "            experiences = utils.get_experiences(memory_buffer)\n",
        "\n",
        "            # Set the y targets, perform a gradient descent step,\n",
        "            # and update the network weights.\n",
        "            agent_learn(experiences, GAMMA)\n",
        "\n",
        "        state = next_state.copy()\n",
        "        total_points += reward\n",
        "\n",
        "        if done:\n",
        "            break\n",
        "\n",
        "    total_point_history.append(total_points)\n",
        "    av_latest_points = np.mean(total_point_history[-num_p_av:])\n",
        "\n",
        "    # Update the ε value\n",
        "    epsilon = utils.get_new_eps(epsilon)\n",
        "\n",
        "    print(f\"\\rEpisode {i+1} | Total point average of the last {num_p_av} episodes: {av_latest_points:.2f}\", end=\"\")\n",
        "\n",
        "    if (i+1) % num_p_av == 0:\n",
        "        print(f\"\\rEpisode {i+1} | Total point average of the last {num_p_av} episodes: {av_latest_points:.2f}\")\n",
        "\n",
        "    # We will consider that the environment is solved if we get an\n",
        "    # average of 200 points in the last 100 episodes.\n",
        "    if av_latest_points >= 200.0:\n",
        "        print(f\"\\n\\nEnvironment solved in {i+1} episodes!\")\n",
        "        q_network.save('lunar_lander_model.h5')\n",
        "        break\n",
        "\n",
        "tot_time = time.time() - start\n",
        "\n",
        "print(f\"\\nTotal Runtime: {tot_time:.2f} s ({(tot_time/60):.2f} min)\")"
      ]
    },
    {
      "cell_type": "markdown",
      "metadata": {
        "id": "fAg2NIUofyNB"
      },
      "source": [
        "We can plot the total point history along with the moving average to see how our agent improved during training. If you want to know about the different plotting options available in the `utils.plot_history` function we encourage you to take a look at the `utils` module."
      ]
    },
    {
      "cell_type": "code",
      "execution_count": 18,
      "metadata": {
        "deletable": false,
        "editable": false,
        "id": "E_EUXxurfe8m",
        "scrolled": false,
        "colab": {
          "base_uri": "https://localhost:8080/",
          "height": 647
        },
        "outputId": "0ade2642-d724-4e30-a8ce-65ffb78f07cb"
      },
      "outputs": [
        {
          "output_type": "display_data",
          "data": {
            "text/plain": [
              "<Figure size 1000x700 with 1 Axes>"
            ],
            "image/png": "[encoded data removed]"
          },
          "metadata": {}
        }
      ],
      "source": [
        "# Plot the total point history along with the moving average\n",
        "utils.plot_history(total_point_history)"
      ]
    },
    {
      "cell_type": "markdown",
      "metadata": {
        "id": "c_xwgaX5MnYt"
      },
      "source": [
        "## 10 - See the Trained Agent In Action\n",
        "\n",
        "Now that we have trained our agent, we can see it in action. We will use the `create_video` function to create a video of our agent interacting with the environment using the trained $Q$-Network."
      ]
    },
    {
      "cell_type": "markdown",
      "metadata": {
        "id": "c_Qw5l-FfyND"
      },
      "source": [
        "In the cell below we create a video of our agent interacting with the Lunar Lander environment using the trained `q_network`. The video is saved to the `videos` folder with the given `filename`. We use the `utils.embed_mp4` function to embed the video in the Jupyter Notebook so that we can see it here directly without having to download it.\n",
        "\n",
        "We should note that since the lunar lander starts with a random initial force applied to its center of mass, every time you run the cell below you will see a different video. If the agent was trained properly, it should be able to land the lunar lander in the landing pad every time, regardless of the initial force applied to its center of mass."
      ]
    },
    {
      "cell_type": "code",
      "source": [
        "from gym.wrappers.monitoring.video_recorder import VideoRecorder\n",
        "\n",
        "def create_video(filename, env, q_network, video_callable=None):\n",
        "    \"\"\"\n",
        "    Creates a video of an agent interacting with a Gym environment using Gym's video recording feature.\n",
        "\n",
        "    Args:\n",
        "        filename (string):\n",
        "            The path to the file to which the video will be saved.\n",
        "        env (Gym Environment):\n",
        "            The Gym environment the agent will interact with.\n",
        "        q_network (tf.keras.Sequential):\n",
        "            A TensorFlow Keras Sequential model that maps states to Q values.\n",
        "        video_callable (callable, optional):\n",
        "            A function that takes the current episode number and returns a boolean\n",
        "            indicating whether to record a video for that episode. If None, videos will\n",
        "            be recorded for all episodes.\n",
        "\n",
        "    \"\"\"\n",
        "    video = VideoRecorder(env, filename)\n",
        "    done = False\n",
        "    state = env.reset()\n",
        "\n",
        "    while not done:\n",
        "        q_values = q_network.predict(np.expand_dims(state, axis=0))\n",
        "        action = np.argmax(q_values[0])\n",
        "        video.capture_frame()\n",
        "        state, _, done, _ = env.step(action)\n",
        "\n",
        "    video.close()\n",
        "    env.close()"
      ],
      "metadata": {
        "id": "XRHZqKphJiut"
      },
      "execution_count": 37,
      "outputs": []
    },
    {
      "cell_type": "code",
      "source": [
        "# Load the model\n",
        "from tensorflow.keras.models import load_model\n",
        "\n",
        "q_network = load_model('lunar_lander_model.h5')\n",
        "\n",
        "# Setup the environment\n",
        "env = gym.make('LunarLander-v2', render_mode='rgb_array')\n",
        "\n",
        "# Create and embed video\n",
        "filename = \"videos/trained_agent.mp4\"\n",
        "create_video(filename, env, q_network)"
      ],
      "metadata": {
        "colab": {
          "base_uri": "https://localhost:8080/"
        },
        "id": "onGsKU37K-nR",
        "outputId": "8c8b5297-50bd-43e9-9114-aa14382ec32a"
      },
      "execution_count": 38,
      "outputs": [
        {
          "output_type": "stream",
          "name": "stdout",
          "text": [
            "1/1 [==============================] - 0s 61ms/step\n"
          ]
        },
        {
          "output_type": "stream",
          "name": "stderr",
          "text": [
            "/usr/local/lib/python3.10/dist-packages/gym/core.py:317: DeprecationWarning: \u001b[33mWARN: Initializing wrapper in old step API which returns one bool instead of two. It is recommended to set `new_step_api=True` to use new step API. This will be the default behaviour in future.\u001b[0m\n",
            "  deprecation(\n",
            "/usr/local/lib/python3.10/dist-packages/gym/wrappers/step_api_compatibility.py:39: DeprecationWarning: \u001b[33mWARN: Initializing environment in old step API which returns one bool instead of two. It is recommended to set `new_step_api=True` to use new step API. This will be the default behaviour in future.\u001b[0m\n",
            "  deprecation(\n",
            "/usr/local/lib/python3.10/dist-packages/gym/wrappers/monitoring/video_recorder.py:101: DeprecationWarning: \u001b[33mWARN: <class 'gym.wrappers.monitoring.video_recorder.VideoRecorder'> is marked as deprecated and will be removed in the future.\u001b[0m\n",
            "  logger.deprecation(\n"
          ]
        },
        {
          "output_type": "stream",
          "name": "stdout",
          "text": [
            "1/1 [==============================] - 0s 103ms/step\n",
            "1/1 [==============================] - 0s 88ms/step\n",
            "1/1 [==============================] - 0s 107ms/step\n",
            "1/1 [==============================] - 0s 63ms/step\n",
            "1/1 [==============================] - 0s 60ms/step\n",
            "1/1 [==============================] - 0s 64ms/step\n",
            "1/1 [==============================] - 0s 69ms/step\n",
            "1/1 [==============================] - 0s 69ms/step\n",
            "1/1 [==============================] - 0s 68ms/step\n",
            "1/1 [==============================] - 0s 68ms/step\n",
            "1/1 [==============================] - 0s 52ms/step\n",
            "1/1 [==============================] - 0s 40ms/step\n",
            "1/1 [==============================] - 0s 49ms/step\n",
            "1/1 [==============================] - 0s 38ms/step\n",
            "1/1 [==============================] - 0s 41ms/step\n",
            "1/1 [==============================] - 0s 39ms/step\n",
            "1/1 [==============================] - 0s 51ms/step\n",
            "1/1 [==============================] - 0s 42ms/step\n",
            "1/1 [==============================] - 0s 47ms/step\n",
            "1/1 [==============================] - 0s 35ms/step\n",
            "1/1 [==============================] - 0s 33ms/step\n",
            "1/1 [==============================] - 0s 37ms/step\n",
            "1/1 [==============================] - 0s 39ms/step\n",
            "1/1 [==============================] - 0s 23ms/step\n",
            "1/1 [==============================] - 0s 22ms/step\n",
            "1/1 [==============================] - 0s 22ms/step\n",
            "1/1 [==============================] - 0s 22ms/step\n",
            "1/1 [==============================] - 0s 21ms/step\n",
            "1/1 [==============================] - 0s 21ms/step\n",
            "1/1 [==============================] - 0s 28ms/step\n",
            "1/1 [==============================] - 0s 25ms/step\n",
            "1/1 [==============================] - 0s 22ms/step\n",
            "1/1 [==============================] - 0s 26ms/step\n",
            "1/1 [==============================] - 0s 22ms/step\n",
            "1/1 [==============================] - 0s 25ms/step\n",
            "1/1 [==============================] - 0s 21ms/step\n",
            "1/1 [==============================] - 0s 22ms/step\n",
            "1/1 [==============================] - 0s 23ms/step\n",
            "1/1 [==============================] - 0s 23ms/step\n",
            "1/1 [==============================] - 0s 28ms/step\n",
            "1/1 [==============================] - 0s 22ms/step\n",
            "1/1 [==============================] - 0s 24ms/step\n",
            "1/1 [==============================] - 0s 21ms/step\n",
            "1/1 [==============================] - 0s 21ms/step\n",
            "1/1 [==============================] - 0s 21ms/step\n",
            "1/1 [==============================] - 0s 22ms/step\n",
            "1/1 [==============================] - 0s 32ms/step\n",
            "1/1 [==============================] - 0s 22ms/step\n",
            "1/1 [==============================] - 0s 24ms/step\n",
            "1/1 [==============================] - 0s 23ms/step\n",
            "1/1 [==============================] - 0s 21ms/step\n",
            "1/1 [==============================] - 0s 23ms/step\n",
            "1/1 [==============================] - 0s 25ms/step\n",
            "1/1 [==============================] - 0s 24ms/step\n",
            "1/1 [==============================] - 0s 22ms/step\n",
            "1/1 [==============================] - 0s 21ms/step\n",
            "1/1 [==============================] - 0s 25ms/step\n",
            "1/1 [==============================] - 0s 23ms/step\n",
            "1/1 [==============================] - 0s 20ms/step\n",
            "1/1 [==============================] - 0s 25ms/step\n",
            "1/1 [==============================] - 0s 23ms/step\n",
            "1/1 [==============================] - 0s 22ms/step\n",
            "1/1 [==============================] - 0s 23ms/step\n",
            "1/1 [==============================] - 0s 19ms/step\n",
            "1/1 [==============================] - 0s 21ms/step\n",
            "1/1 [==============================] - 0s 22ms/step\n",
            "1/1 [==============================] - 0s 27ms/step\n",
            "1/1 [==============================] - 0s 22ms/step\n",
            "1/1 [==============================] - 0s 21ms/step\n",
            "1/1 [==============================] - 0s 25ms/step\n",
            "1/1 [==============================] - 0s 20ms/step\n",
            "1/1 [==============================] - 0s 22ms/step\n",
            "1/1 [==============================] - 0s 21ms/step\n",
            "1/1 [==============================] - 0s 24ms/step\n",
            "1/1 [==============================] - 0s 22ms/step\n",
            "1/1 [==============================] - 0s 23ms/step\n",
            "1/1 [==============================] - 0s 23ms/step\n",
            "1/1 [==============================] - 0s 22ms/step\n",
            "1/1 [==============================] - 0s 27ms/step\n",
            "1/1 [==============================] - 0s 26ms/step\n",
            "1/1 [==============================] - 0s 21ms/step\n",
            "1/1 [==============================] - 0s 24ms/step\n",
            "1/1 [==============================] - 0s 25ms/step\n",
            "1/1 [==============================] - 0s 35ms/step\n",
            "1/1 [==============================] - 0s 21ms/step\n",
            "1/1 [==============================] - 0s 19ms/step\n",
            "1/1 [==============================] - 0s 26ms/step\n",
            "1/1 [==============================] - 0s 33ms/step\n",
            "1/1 [==============================] - 0s 26ms/step\n",
            "1/1 [==============================] - 0s 21ms/step\n",
            "1/1 [==============================] - 0s 21ms/step\n",
            "1/1 [==============================] - 0s 42ms/step\n",
            "1/1 [==============================] - 0s 28ms/step\n",
            "1/1 [==============================] - 0s 27ms/step\n",
            "1/1 [==============================] - 0s 28ms/step\n",
            "1/1 [==============================] - 0s 45ms/step\n",
            "1/1 [==============================] - 0s 20ms/step\n",
            "1/1 [==============================] - 0s 22ms/step\n",
            "1/1 [==============================] - 0s 18ms/step\n",
            "1/1 [==============================] - 0s 31ms/step\n",
            "1/1 [==============================] - 0s 32ms/step\n",
            "1/1 [==============================] - 0s 27ms/step\n",
            "1/1 [==============================] - 0s 36ms/step\n",
            "1/1 [==============================] - 0s 42ms/step\n",
            "1/1 [==============================] - 0s 33ms/step\n",
            "1/1 [==============================] - 0s 38ms/step\n",
            "1/1 [==============================] - 0s 32ms/step\n",
            "1/1 [==============================] - 0s 33ms/step\n",
            "1/1 [==============================] - 0s 53ms/step\n",
            "1/1 [==============================] - 0s 32ms/step\n",
            "1/1 [==============================] - 0s 36ms/step\n",
            "1/1 [==============================] - 0s 33ms/step\n",
            "1/1 [==============================] - 0s 38ms/step\n",
            "1/1 [==============================] - 0s 28ms/step\n",
            "1/1 [==============================] - 0s 32ms/step\n",
            "1/1 [==============================] - 0s 29ms/step\n",
            "1/1 [==============================] - 0s 34ms/step\n",
            "1/1 [==============================] - 0s 35ms/step\n",
            "1/1 [==============================] - 0s 28ms/step\n",
            "1/1 [==============================] - 0s 29ms/step\n",
            "1/1 [==============================] - 0s 30ms/step\n",
            "1/1 [==============================] - 0s 58ms/step\n",
            "1/1 [==============================] - 0s 28ms/step\n",
            "1/1 [==============================] - 0s 38ms/step\n",
            "1/1 [==============================] - 0s 29ms/step\n",
            "1/1 [==============================] - 0s 72ms/step\n",
            "1/1 [==============================] - 0s 61ms/step\n",
            "1/1 [==============================] - 0s 81ms/step\n",
            "1/1 [==============================] - 0s 55ms/step\n",
            "1/1 [==============================] - 0s 53ms/step\n",
            "1/1 [==============================] - 0s 83ms/step\n",
            "1/1 [==============================] - 0s 70ms/step\n",
            "1/1 [==============================] - 0s 83ms/step\n",
            "1/1 [==============================] - 0s 55ms/step\n",
            "1/1 [==============================] - 0s 50ms/step\n",
            "1/1 [==============================] - 0s 62ms/step\n",
            "1/1 [==============================] - 0s 52ms/step\n",
            "1/1 [==============================] - 0s 69ms/step\n",
            "1/1 [==============================] - 0s 78ms/step\n",
            "1/1 [==============================] - 0s 142ms/step\n",
            "1/1 [==============================] - 0s 95ms/step\n",
            "1/1 [==============================] - 0s 21ms/step\n",
            "1/1 [==============================] - 0s 19ms/step\n",
            "1/1 [==============================] - 0s 25ms/step\n",
            "1/1 [==============================] - 0s 26ms/step\n",
            "1/1 [==============================] - 0s 32ms/step\n",
            "1/1 [==============================] - 0s 30ms/step\n",
            "1/1 [==============================] - 0s 26ms/step\n",
            "1/1 [==============================] - 0s 25ms/step\n",
            "1/1 [==============================] - 0s 28ms/step\n",
            "1/1 [==============================] - 0s 27ms/step\n",
            "1/1 [==============================] - 0s 26ms/step\n",
            "1/1 [==============================] - 0s 33ms/step\n",
            "1/1 [==============================] - 0s 27ms/step\n",
            "1/1 [==============================] - 0s 31ms/step\n",
            "1/1 [==============================] - 0s 33ms/step\n",
            "1/1 [==============================] - 0s 33ms/step\n",
            "1/1 [==============================] - 0s 32ms/step\n",
            "1/1 [==============================] - 0s 34ms/step\n",
            "1/1 [==============================] - 0s 26ms/step\n",
            "1/1 [==============================] - 0s 32ms/step\n",
            "1/1 [==============================] - 0s 28ms/step\n",
            "1/1 [==============================] - 0s 32ms/step\n",
            "1/1 [==============================] - 0s 32ms/step\n",
            "1/1 [==============================] - 0s 26ms/step\n",
            "1/1 [==============================] - 0s 32ms/step\n",
            "1/1 [==============================] - 0s 27ms/step\n",
            "1/1 [==============================] - 0s 29ms/step\n",
            "1/1 [==============================] - 0s 34ms/step\n",
            "1/1 [==============================] - 0s 32ms/step\n",
            "1/1 [==============================] - 0s 30ms/step\n",
            "1/1 [==============================] - 0s 33ms/step\n",
            "1/1 [==============================] - 0s 37ms/step\n",
            "1/1 [==============================] - 0s 16ms/step\n",
            "1/1 [==============================] - 0s 19ms/step\n",
            "1/1 [==============================] - 0s 17ms/step\n",
            "1/1 [==============================] - 0s 23ms/step\n",
            "1/1 [==============================] - 0s 19ms/step\n",
            "1/1 [==============================] - 0s 19ms/step\n",
            "1/1 [==============================] - 0s 19ms/step\n",
            "1/1 [==============================] - 0s 18ms/step\n",
            "1/1 [==============================] - 0s 19ms/step\n",
            "1/1 [==============================] - 0s 17ms/step\n",
            "1/1 [==============================] - 0s 16ms/step\n",
            "1/1 [==============================] - 0s 22ms/step\n",
            "1/1 [==============================] - 0s 18ms/step\n",
            "1/1 [==============================] - 0s 17ms/step\n",
            "1/1 [==============================] - 0s 20ms/step\n",
            "1/1 [==============================] - 0s 18ms/step\n",
            "1/1 [==============================] - 0s 16ms/step\n",
            "1/1 [==============================] - 0s 18ms/step\n",
            "1/1 [==============================] - 0s 19ms/step\n",
            "1/1 [==============================] - 0s 20ms/step\n",
            "1/1 [==============================] - 0s 17ms/step\n",
            "1/1 [==============================] - 0s 18ms/step\n",
            "1/1 [==============================] - 0s 16ms/step\n",
            "1/1 [==============================] - 0s 18ms/step\n",
            "1/1 [==============================] - 0s 17ms/step\n",
            "1/1 [==============================] - 0s 21ms/step\n",
            "1/1 [==============================] - 0s 19ms/step\n",
            "1/1 [==============================] - 0s 21ms/step\n",
            "1/1 [==============================] - 0s 17ms/step\n",
            "1/1 [==============================] - 0s 30ms/step\n",
            "1/1 [==============================] - 0s 20ms/step\n",
            "1/1 [==============================] - 0s 17ms/step\n",
            "1/1 [==============================] - 0s 16ms/step\n",
            "1/1 [==============================] - 0s 17ms/step\n",
            "1/1 [==============================] - 0s 19ms/step\n",
            "1/1 [==============================] - 0s 18ms/step\n",
            "1/1 [==============================] - 0s 24ms/step\n",
            "1/1 [==============================] - 0s 18ms/step\n",
            "1/1 [==============================] - 0s 18ms/step\n",
            "1/1 [==============================] - 0s 18ms/step\n",
            "1/1 [==============================] - 0s 19ms/step\n",
            "1/1 [==============================] - 0s 16ms/step\n",
            "1/1 [==============================] - 0s 19ms/step\n",
            "1/1 [==============================] - 0s 17ms/step\n",
            "1/1 [==============================] - 0s 18ms/step\n",
            "1/1 [==============================] - 0s 17ms/step\n",
            "1/1 [==============================] - 0s 16ms/step\n",
            "1/1 [==============================] - 0s 20ms/step\n",
            "1/1 [==============================] - 0s 19ms/step\n",
            "1/1 [==============================] - 0s 19ms/step\n",
            "1/1 [==============================] - 0s 19ms/step\n",
            "1/1 [==============================] - 0s 19ms/step\n",
            "1/1 [==============================] - 0s 17ms/step\n",
            "1/1 [==============================] - 0s 18ms/step\n",
            "1/1 [==============================] - 0s 19ms/step\n",
            "1/1 [==============================] - 0s 16ms/step\n",
            "1/1 [==============================] - 0s 17ms/step\n",
            "1/1 [==============================] - 0s 20ms/step\n",
            "1/1 [==============================] - 0s 23ms/step\n",
            "1/1 [==============================] - 0s 20ms/step\n",
            "1/1 [==============================] - 0s 21ms/step\n",
            "1/1 [==============================] - 0s 18ms/step\n",
            "1/1 [==============================] - 0s 19ms/step\n",
            "1/1 [==============================] - 0s 20ms/step\n",
            "1/1 [==============================] - 0s 20ms/step\n",
            "1/1 [==============================] - 0s 21ms/step\n",
            "1/1 [==============================] - 0s 20ms/step\n",
            "1/1 [==============================] - 0s 19ms/step\n",
            "1/1 [==============================] - 0s 19ms/step\n",
            "1/1 [==============================] - 0s 18ms/step\n",
            "1/1 [==============================] - 0s 25ms/step\n",
            "1/1 [==============================] - 0s 16ms/step\n",
            "1/1 [==============================] - 0s 19ms/step\n",
            "1/1 [==============================] - 0s 22ms/step\n",
            "1/1 [==============================] - 0s 18ms/step\n",
            "1/1 [==============================] - 0s 19ms/step\n",
            "1/1 [==============================] - 0s 17ms/step\n",
            "1/1 [==============================] - 0s 17ms/step\n",
            "1/1 [==============================] - 0s 20ms/step\n",
            "1/1 [==============================] - 0s 19ms/step\n",
            "1/1 [==============================] - 0s 17ms/step\n",
            "1/1 [==============================] - 0s 17ms/step\n",
            "1/1 [==============================] - 0s 23ms/step\n",
            "1/1 [==============================] - 0s 17ms/step\n",
            "1/1 [==============================] - 0s 17ms/step\n",
            "1/1 [==============================] - 0s 16ms/step\n",
            "1/1 [==============================] - 0s 17ms/step\n",
            "1/1 [==============================] - 0s 19ms/step\n",
            "1/1 [==============================] - 0s 21ms/step\n",
            "1/1 [==============================] - 0s 17ms/step\n",
            "1/1 [==============================] - 0s 20ms/step\n",
            "1/1 [==============================] - 0s 18ms/step\n",
            "1/1 [==============================] - 0s 17ms/step\n",
            "1/1 [==============================] - 0s 16ms/step\n",
            "1/1 [==============================] - 0s 21ms/step\n",
            "1/1 [==============================] - 0s 18ms/step\n",
            "1/1 [==============================] - 0s 18ms/step\n",
            "1/1 [==============================] - 0s 19ms/step\n",
            "1/1 [==============================] - 0s 30ms/step\n",
            "1/1 [==============================] - 0s 32ms/step\n",
            "1/1 [==============================] - 0s 26ms/step\n",
            "1/1 [==============================] - 0s 26ms/step\n",
            "1/1 [==============================] - 0s 32ms/step\n",
            "1/1 [==============================] - 0s 29ms/step\n",
            "1/1 [==============================] - 0s 40ms/step\n",
            "1/1 [==============================] - 0s 28ms/step\n",
            "1/1 [==============================] - 0s 25ms/step\n",
            "1/1 [==============================] - 0s 27ms/step\n",
            "1/1 [==============================] - 0s 26ms/step\n",
            "1/1 [==============================] - 0s 25ms/step\n",
            "1/1 [==============================] - 0s 26ms/step\n",
            "1/1 [==============================] - 0s 25ms/step\n",
            "1/1 [==============================] - 0s 27ms/step\n",
            "1/1 [==============================] - 0s 25ms/step\n",
            "1/1 [==============================] - 0s 26ms/step\n",
            "1/1 [==============================] - 0s 43ms/step\n",
            "1/1 [==============================] - 0s 25ms/step\n",
            "1/1 [==============================] - 0s 26ms/step\n",
            "1/1 [==============================] - 0s 27ms/step\n",
            "1/1 [==============================] - 0s 29ms/step\n",
            "1/1 [==============================] - 0s 25ms/step\n",
            "1/1 [==============================] - 0s 27ms/step\n",
            "1/1 [==============================] - 0s 28ms/step\n",
            "1/1 [==============================] - 0s 25ms/step\n",
            "1/1 [==============================] - 0s 26ms/step\n",
            "1/1 [==============================] - 0s 17ms/step\n",
            "1/1 [==============================] - 0s 22ms/step\n",
            "1/1 [==============================] - 0s 20ms/step\n",
            "1/1 [==============================] - 0s 20ms/step\n",
            "1/1 [==============================] - 0s 18ms/step\n",
            "1/1 [==============================] - 0s 17ms/step\n",
            "1/1 [==============================] - 0s 23ms/step\n",
            "1/1 [==============================] - 0s 18ms/step\n",
            "1/1 [==============================] - 0s 16ms/step\n",
            "1/1 [==============================] - 0s 17ms/step\n",
            "1/1 [==============================] - 0s 23ms/step\n",
            "1/1 [==============================] - 0s 23ms/step\n",
            "1/1 [==============================] - 0s 17ms/step\n",
            "1/1 [==============================] - 0s 20ms/step\n",
            "1/1 [==============================] - 0s 17ms/step\n",
            "1/1 [==============================] - 0s 19ms/step\n",
            "1/1 [==============================] - 0s 17ms/step\n",
            "1/1 [==============================] - 0s 19ms/step\n",
            "1/1 [==============================] - 0s 16ms/step\n"
          ]
        }
      ]
    },
    {
      "cell_type": "code",
      "source": [
        "utils.embed_mp4(filename)"
      ],
      "metadata": {
        "colab": {
          "base_uri": "https://localhost:8080/",
          "height": 557
        },
        "id": "huw99zk-L8x1",
        "outputId": "7ff1a6fb-f71d-4817-fc43-04301da7f544"
      },
      "execution_count": 40,
      "outputs": [
        {
          "output_type": "stream",
          "name": "stderr",
          "text": [
            "/usr/local/lib/python3.10/dist-packages/ipykernel/ipkernel.py:283: DeprecationWarning: `should_run_async` will not call `transform_cell` automatically in the future. Please pass the result to `transformed_cell` argument and any exception that happen during thetransform in `preprocessing_exc_tuple` in IPython 7.17 and above.\n",
            "  and should_run_async(code)\n"
          ]
        },
        {
          "output_type": "execute_result",
          "data": {
            "text/plain": [
              "<IPython.core.display.HTML object>"
            ],
            "text/html": [
              "\n",
              "    <video width=\"840\" height=\"480\" controls>\n",
              "    <source src=\"data:video/mp4;base64,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\" type=\"video/mp4\">\n",
              "    Your browser does not support the video tag.\n",
              "    </video>"
            ]
          },
          "metadata": {},
          "execution_count": 40
        }
      ]
    }
  ],
  "metadata": {
    "accelerator": "GPU",
    "celltoolbar": "Edit Metadata",
    "colab": {
      "provenance": []
    },
    "kernelspec": {
      "display_name": "Python 3",
      "language": "python",
      "name": "python3"
    },
    "language_info": {
      "codemirror_mode": {
        "name": "ipython",
        "version": 3
      },
      "file_extension": ".py",
      "mimetype": "text/x-python",
      "name": "python",
      "nbconvert_exporter": "python",
      "pygments_lexer": "ipython3",
      "version": "3.7.6"
    }
  },
  "nbformat": 4,
  "nbformat_minor": 0
}